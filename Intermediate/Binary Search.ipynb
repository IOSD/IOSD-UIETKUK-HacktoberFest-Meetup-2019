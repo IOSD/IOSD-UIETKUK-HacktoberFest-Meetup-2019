{
 "cells": [
  {
   "cell_type": "code",
   "execution_count": null,
   "metadata": {},
   "outputs": [],
   "source": [
    "def binarySearch(arr, l, r, x):\n",
    "    if r >= l: \n",
    "        mid = int(l + (r - l)/2)\n",
    "        if arr[mid] == x: \n",
    "            return mid \n",
    "        elif arr[mid] > x: \n",
    "            return binarySearch(arr, l, mid-1, x) \n",
    "        else: \n",
    "            return binarySearch(arr, mid+1, r, x) \n",
    "    else: \n",
    "        return -1\n",
    "\n",
    "arr = list(map(int, input().split()))\n",
    "x = int(input())\n",
    "search = binarySearch(arr, 0, len(arr)-1, x)\n",
    "\n",
    "if(search != 1):\n",
    "    print(\"Element is present at index:\" , search)\n",
    "else:\n",
    "    print(\"Not Found\")\n",
    "  "
   ]
  },
  {
   "cell_type": "code",
   "execution_count": null,
   "metadata": {},
   "outputs": [],
   "source": []
  }
 ],
 "metadata": {
  "kernelspec": {
   "display_name": "Python 3",
   "language": "python",
   "name": "python3"
  },
  "language_info": {
   "codemirror_mode": {
    "name": "ipython",
    "version": 3
   },
   "file_extension": ".py",
   "mimetype": "text/x-python",
   "name": "python",
   "nbconvert_exporter": "python",
   "pygments_lexer": "ipython3",
   "version": "3.7.3"
  }
 },
 "nbformat": 4,
 "nbformat_minor": 2
}
