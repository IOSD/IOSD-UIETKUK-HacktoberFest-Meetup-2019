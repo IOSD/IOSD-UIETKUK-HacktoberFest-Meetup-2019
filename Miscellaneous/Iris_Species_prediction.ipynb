{
  "nbformat": 4,
  "nbformat_minor": 0,
  "metadata": {
    "colab": {
      "name": "Iris Species prediction",
      "provenance": [],
      "collapsed_sections": []
    },
    "kernelspec": {
      "name": "python3",
      "display_name": "Python 3"
    }
  },
  "cells": [
    {
      "cell_type": "markdown",
      "metadata": {
        "id": "MS4BEwgsAz4k",
        "colab_type": "text"
      },
      "source": [
        "##**Iris Data Prediction**\n",
        "\n",
        " **About Dataset**\n",
        "\n",
        "It includes three iris species with 50 samples each as well as some properties about each flower. One flower species is linearly separable from the other two, but the other two are not linearly separable from each other.\n",
        "\n",
        "The columns in this dataset are:\n",
        "\n",
        "1. Id\n",
        "2. SepalLengthCm\n",
        "3. SepalWidthCm\n",
        "4. PetalLengthCm\n",
        "5. PetalWidthCm\n",
        "6. Species"
      ]
    },
    {
      "cell_type": "markdown",
      "metadata": {
        "id": "KeuoU_IMBXaJ",
        "colab_type": "text"
      },
      "source": [
        "**Target**\n",
        "\n",
        "To predict Flower Species"
      ]
    },
    {
      "cell_type": "markdown",
      "metadata": {
        "id": "9tEv6B7cBkLO",
        "colab_type": "text"
      },
      "source": [
        "**Approach**:\n",
        "\n",
        "Training using Artifical Neural Network"
      ]
    },
    {
      "cell_type": "markdown",
      "metadata": {
        "id": "qX4tygE8EEg1",
        "colab_type": "text"
      },
      "source": [
        "# **Importing Libraries**"
      ]
    },
    {
      "cell_type": "code",
      "metadata": {
        "id": "zPjQGOXe00V7",
        "colab_type": "code",
        "colab": {
          "base_uri": "https://localhost:8080/",
          "height": 72
        },
        "outputId": "918c24dc-d96e-41f3-8d8d-0c79bf85446a"
      },
      "source": [
        "import numpy as np \n",
        "import pandas as pd \n",
        "\n",
        "import seaborn as sns\n",
        "import matplotlib.pyplot as plt\n",
        "from sklearn.preprocessing import StandardScaler\n",
        "\n",
        "import scipy as sp \n",
        "import sklearn\n",
        "import random \n",
        "import time \n",
        "\n",
        "\n",
        "from keras.models import Sequential \n",
        "from keras.layers import Dense \n",
        "from keras.utils import np_utils\n",
        "from sklearn.utils import shuffle\n",
        "from sklearn.preprocessing import LabelEncoder\n",
        "from keras.utils.np_utils import to_categorical\n",
        "from sklearn import preprocessing, model_selection"
      ],
      "execution_count": 1,
      "outputs": [
        {
          "output_type": "stream",
          "text": [
            "/usr/local/lib/python3.6/dist-packages/statsmodels/tools/_testing.py:19: FutureWarning: pandas.util.testing is deprecated. Use the functions in the public API at pandas.testing instead.\n",
            "  import pandas.util.testing as tm\n"
          ],
          "name": "stderr"
        }
      ]
    },
    {
      "cell_type": "markdown",
      "metadata": {
        "id": "Bya0aI3QEKua",
        "colab_type": "text"
      },
      "source": [
        "# **Importing Data**"
      ]
    },
    {
      "cell_type": "code",
      "metadata": {
        "id": "bGIjBeRP02OT",
        "colab_type": "code",
        "colab": {
          "base_uri": "https://localhost:8080/",
          "height": 202
        },
        "outputId": "dfb2f622-c141-49a6-be30-df7aa2b7883a"
      },
      "source": [
        "iris = pd.read_csv('/content/drive/My Drive/ML Projects datasets/Iris Prediction/Iris.csv')\n",
        "iris.head()"
      ],
      "execution_count": 2,
      "outputs": [
        {
          "output_type": "execute_result",
          "data": {
            "text/html": [
              "<div>\n",
              "<style scoped>\n",
              "    .dataframe tbody tr th:only-of-type {\n",
              "        vertical-align: middle;\n",
              "    }\n",
              "\n",
              "    .dataframe tbody tr th {\n",
              "        vertical-align: top;\n",
              "    }\n",
              "\n",
              "    .dataframe thead th {\n",
              "        text-align: right;\n",
              "    }\n",
              "</style>\n",
              "<table border=\"1\" class=\"dataframe\">\n",
              "  <thead>\n",
              "    <tr style=\"text-align: right;\">\n",
              "      <th></th>\n",
              "      <th>Id</th>\n",
              "      <th>SepalLengthCm</th>\n",
              "      <th>SepalWidthCm</th>\n",
              "      <th>PetalLengthCm</th>\n",
              "      <th>PetalWidthCm</th>\n",
              "      <th>Species</th>\n",
              "    </tr>\n",
              "  </thead>\n",
              "  <tbody>\n",
              "    <tr>\n",
              "      <th>0</th>\n",
              "      <td>1</td>\n",
              "      <td>5.1</td>\n",
              "      <td>3.5</td>\n",
              "      <td>1.4</td>\n",
              "      <td>0.2</td>\n",
              "      <td>Iris-setosa</td>\n",
              "    </tr>\n",
              "    <tr>\n",
              "      <th>1</th>\n",
              "      <td>2</td>\n",
              "      <td>4.9</td>\n",
              "      <td>3.0</td>\n",
              "      <td>1.4</td>\n",
              "      <td>0.2</td>\n",
              "      <td>Iris-setosa</td>\n",
              "    </tr>\n",
              "    <tr>\n",
              "      <th>2</th>\n",
              "      <td>3</td>\n",
              "      <td>4.7</td>\n",
              "      <td>3.2</td>\n",
              "      <td>1.3</td>\n",
              "      <td>0.2</td>\n",
              "      <td>Iris-setosa</td>\n",
              "    </tr>\n",
              "    <tr>\n",
              "      <th>3</th>\n",
              "      <td>4</td>\n",
              "      <td>4.6</td>\n",
              "      <td>3.1</td>\n",
              "      <td>1.5</td>\n",
              "      <td>0.2</td>\n",
              "      <td>Iris-setosa</td>\n",
              "    </tr>\n",
              "    <tr>\n",
              "      <th>4</th>\n",
              "      <td>5</td>\n",
              "      <td>5.0</td>\n",
              "      <td>3.6</td>\n",
              "      <td>1.4</td>\n",
              "      <td>0.2</td>\n",
              "      <td>Iris-setosa</td>\n",
              "    </tr>\n",
              "  </tbody>\n",
              "</table>\n",
              "</div>"
            ],
            "text/plain": [
              "   Id  SepalLengthCm  SepalWidthCm  PetalLengthCm  PetalWidthCm      Species\n",
              "0   1            5.1           3.5            1.4           0.2  Iris-setosa\n",
              "1   2            4.9           3.0            1.4           0.2  Iris-setosa\n",
              "2   3            4.7           3.2            1.3           0.2  Iris-setosa\n",
              "3   4            4.6           3.1            1.5           0.2  Iris-setosa\n",
              "4   5            5.0           3.6            1.4           0.2  Iris-setosa"
            ]
          },
          "metadata": {
            "tags": []
          },
          "execution_count": 2
        }
      ]
    },
    {
      "cell_type": "code",
      "metadata": {
        "id": "isPB6xZiEVLh",
        "colab_type": "code",
        "colab": {}
      },
      "source": [
        "#removing Id Column\n",
        "iris = iris.drop(['Id'], axis =1)"
      ],
      "execution_count": 3,
      "outputs": []
    },
    {
      "cell_type": "code",
      "metadata": {
        "id": "pkvxfsjH0-hp",
        "colab_type": "code",
        "colab": {
          "base_uri": "https://localhost:8080/",
          "height": 225
        },
        "outputId": "9c5f4b03-e636-4bda-8a8a-03c929bf686c"
      },
      "source": [
        "iris.info()"
      ],
      "execution_count": 4,
      "outputs": [
        {
          "output_type": "stream",
          "text": [
            "<class 'pandas.core.frame.DataFrame'>\n",
            "RangeIndex: 150 entries, 0 to 149\n",
            "Data columns (total 5 columns):\n",
            " #   Column         Non-Null Count  Dtype  \n",
            "---  ------         --------------  -----  \n",
            " 0   SepalLengthCm  150 non-null    float64\n",
            " 1   SepalWidthCm   150 non-null    float64\n",
            " 2   PetalLengthCm  150 non-null    float64\n",
            " 3   PetalWidthCm   150 non-null    float64\n",
            " 4   Species        150 non-null    object \n",
            "dtypes: float64(4), object(1)\n",
            "memory usage: 6.0+ KB\n"
          ],
          "name": "stdout"
        }
      ]
    },
    {
      "cell_type": "markdown",
      "metadata": {
        "id": "0V3-3OVskngL",
        "colab_type": "text"
      },
      "source": [
        "# **Splitting data into X,Y and prediction**"
      ]
    },
    {
      "cell_type": "markdown",
      "metadata": {
        "id": "UU2dEPWFnI6A",
        "colab_type": "text"
      },
      "source": [
        "We are going to separate the data. One part will be used to make predictions in the end, the other part, the most important will be used for training and testing the neural network. This part is not mandatory, but it is for fun, and especially to show how to predict from an input."
      ]
    },
    {
      "cell_type": "code",
      "metadata": {
        "id": "6rkGTtvh2WX3",
        "colab_type": "code",
        "colab": {
          "base_uri": "https://localhost:8080/",
          "height": 294
        },
        "outputId": "7197edfe-fdd0-4446-e772-ce3fbee6b304"
      },
      "source": [
        "iris[:8]"
      ],
      "execution_count": 5,
      "outputs": [
        {
          "output_type": "execute_result",
          "data": {
            "text/html": [
              "<div>\n",
              "<style scoped>\n",
              "    .dataframe tbody tr th:only-of-type {\n",
              "        vertical-align: middle;\n",
              "    }\n",
              "\n",
              "    .dataframe tbody tr th {\n",
              "        vertical-align: top;\n",
              "    }\n",
              "\n",
              "    .dataframe thead th {\n",
              "        text-align: right;\n",
              "    }\n",
              "</style>\n",
              "<table border=\"1\" class=\"dataframe\">\n",
              "  <thead>\n",
              "    <tr style=\"text-align: right;\">\n",
              "      <th></th>\n",
              "      <th>SepalLengthCm</th>\n",
              "      <th>SepalWidthCm</th>\n",
              "      <th>PetalLengthCm</th>\n",
              "      <th>PetalWidthCm</th>\n",
              "      <th>Species</th>\n",
              "    </tr>\n",
              "  </thead>\n",
              "  <tbody>\n",
              "    <tr>\n",
              "      <th>0</th>\n",
              "      <td>5.1</td>\n",
              "      <td>3.5</td>\n",
              "      <td>1.4</td>\n",
              "      <td>0.2</td>\n",
              "      <td>Iris-setosa</td>\n",
              "    </tr>\n",
              "    <tr>\n",
              "      <th>1</th>\n",
              "      <td>4.9</td>\n",
              "      <td>3.0</td>\n",
              "      <td>1.4</td>\n",
              "      <td>0.2</td>\n",
              "      <td>Iris-setosa</td>\n",
              "    </tr>\n",
              "    <tr>\n",
              "      <th>2</th>\n",
              "      <td>4.7</td>\n",
              "      <td>3.2</td>\n",
              "      <td>1.3</td>\n",
              "      <td>0.2</td>\n",
              "      <td>Iris-setosa</td>\n",
              "    </tr>\n",
              "    <tr>\n",
              "      <th>3</th>\n",
              "      <td>4.6</td>\n",
              "      <td>3.1</td>\n",
              "      <td>1.5</td>\n",
              "      <td>0.2</td>\n",
              "      <td>Iris-setosa</td>\n",
              "    </tr>\n",
              "    <tr>\n",
              "      <th>4</th>\n",
              "      <td>5.0</td>\n",
              "      <td>3.6</td>\n",
              "      <td>1.4</td>\n",
              "      <td>0.2</td>\n",
              "      <td>Iris-setosa</td>\n",
              "    </tr>\n",
              "    <tr>\n",
              "      <th>5</th>\n",
              "      <td>5.4</td>\n",
              "      <td>3.9</td>\n",
              "      <td>1.7</td>\n",
              "      <td>0.4</td>\n",
              "      <td>Iris-setosa</td>\n",
              "    </tr>\n",
              "    <tr>\n",
              "      <th>6</th>\n",
              "      <td>4.6</td>\n",
              "      <td>3.4</td>\n",
              "      <td>1.4</td>\n",
              "      <td>0.3</td>\n",
              "      <td>Iris-setosa</td>\n",
              "    </tr>\n",
              "    <tr>\n",
              "      <th>7</th>\n",
              "      <td>5.0</td>\n",
              "      <td>3.4</td>\n",
              "      <td>1.5</td>\n",
              "      <td>0.2</td>\n",
              "      <td>Iris-setosa</td>\n",
              "    </tr>\n",
              "  </tbody>\n",
              "</table>\n",
              "</div>"
            ],
            "text/plain": [
              "   SepalLengthCm  SepalWidthCm  PetalLengthCm  PetalWidthCm      Species\n",
              "0            5.1           3.5            1.4           0.2  Iris-setosa\n",
              "1            4.9           3.0            1.4           0.2  Iris-setosa\n",
              "2            4.7           3.2            1.3           0.2  Iris-setosa\n",
              "3            4.6           3.1            1.5           0.2  Iris-setosa\n",
              "4            5.0           3.6            1.4           0.2  Iris-setosa\n",
              "5            5.4           3.9            1.7           0.4  Iris-setosa\n",
              "6            4.6           3.4            1.4           0.3  Iris-setosa\n",
              "7            5.0           3.4            1.5           0.2  Iris-setosa"
            ]
          },
          "metadata": {
            "tags": []
          },
          "execution_count": 5
        }
      ]
    },
    {
      "cell_type": "code",
      "metadata": {
        "id": "8_59jpg61LXP",
        "colab_type": "code",
        "colab": {}
      },
      "source": [
        "iris = shuffle(iris)\n",
        "i = 8\n",
        "data_to_predict = iris[:i].reset_index(drop = True)\n",
        "predict_species = data_to_predict.Species \n",
        "predict_species = np.array(predict_species)\n",
        "prediction = np.array(data_to_predict.drop(['Species'],axis= 1))\n",
        "\n",
        "iris = iris[i:].reset_index(drop = True)\n",
        "\n",
        "# X and Y for training the model\n",
        "X = iris.drop(['Species'], axis = 1)\n",
        "X = np.array(X)\n",
        "Y = iris['Species']\n"
      ],
      "execution_count": 6,
      "outputs": []
    },
    {
      "cell_type": "code",
      "metadata": {
        "id": "ehwCQMhY3Htv",
        "colab_type": "code",
        "colab": {
          "base_uri": "https://localhost:8080/",
          "height": 69
        },
        "outputId": "00124356-a10a-4ba2-c4b3-1bd6d78c07f0"
      },
      "source": [
        "#array of already labeled species\n",
        "predict_species"
      ],
      "execution_count": 7,
      "outputs": [
        {
          "output_type": "execute_result",
          "data": {
            "text/plain": [
              "array(['Iris-setosa', 'Iris-virginica', 'Iris-versicolor',\n",
              "       'Iris-versicolor', 'Iris-versicolor', 'Iris-setosa',\n",
              "       'Iris-virginica', 'Iris-setosa'], dtype=object)"
            ]
          },
          "metadata": {
            "tags": []
          },
          "execution_count": 7
        }
      ]
    },
    {
      "cell_type": "code",
      "metadata": {
        "id": "ZEHracm_3ZFG",
        "colab_type": "code",
        "colab": {
          "base_uri": "https://localhost:8080/",
          "height": 156
        },
        "outputId": "3a998ab1-ce8d-4049-ea4e-ced76f54dae8"
      },
      "source": [
        "#array of features of species to be predicted\n",
        "prediction"
      ],
      "execution_count": 8,
      "outputs": [
        {
          "output_type": "execute_result",
          "data": {
            "text/plain": [
              "array([[5. , 3.2, 1.2, 0.2],\n",
              "       [6.4, 3.1, 5.5, 1.8],\n",
              "       [6.2, 2.9, 4.3, 1.3],\n",
              "       [5.5, 2.3, 4. , 1.3],\n",
              "       [6.5, 2.8, 4.6, 1.5],\n",
              "       [5.2, 4.1, 1.5, 0.1],\n",
              "       [6.4, 2.8, 5.6, 2.2],\n",
              "       [4.4, 3.2, 1.3, 0.2]])"
            ]
          },
          "metadata": {
            "tags": []
          },
          "execution_count": 8
        }
      ]
    },
    {
      "cell_type": "code",
      "metadata": {
        "id": "lHHU4KUNWmqz",
        "colab_type": "code",
        "colab": {
          "base_uri": "https://localhost:8080/",
          "height": 1000
        },
        "outputId": "54a99a89-edf8-4221-9fde-0e9faa4f6012"
      },
      "source": [
        "print(X)\n",
        "print(Y)"
      ],
      "execution_count": 9,
      "outputs": [
        {
          "output_type": "stream",
          "text": [
            "[[5.8 2.7 5.1 1.9]\n",
            " [5.7 2.8 4.1 1.3]\n",
            " [5.  3.3 1.4 0.2]\n",
            " [6.2 2.2 4.5 1.5]\n",
            " [5.2 2.7 3.9 1.4]\n",
            " [5.6 2.8 4.9 2. ]\n",
            " [4.9 3.  1.4 0.2]\n",
            " [4.6 3.4 1.4 0.3]\n",
            " [5.6 3.  4.1 1.3]\n",
            " [7.7 3.  6.1 2.3]\n",
            " [6.6 3.  4.4 1.4]\n",
            " [6.4 3.2 5.3 2.3]\n",
            " [4.5 2.3 1.3 0.3]\n",
            " [6.  2.2 5.  1.5]\n",
            " [5.5 4.2 1.4 0.2]\n",
            " [6.3 2.5 5.  1.9]\n",
            " [6.1 2.8 4.7 1.2]\n",
            " [6.7 3.  5.2 2.3]\n",
            " [6.5 3.2 5.1 2. ]\n",
            " [4.8 3.1 1.6 0.2]\n",
            " [5.1 3.3 1.7 0.5]\n",
            " [4.8 3.  1.4 0.1]\n",
            " [5.4 3.9 1.7 0.4]\n",
            " [5.7 2.5 5.  2. ]\n",
            " [5.1 3.5 1.4 0.3]\n",
            " [6.  2.9 4.5 1.5]\n",
            " [6.3 3.3 4.7 1.6]\n",
            " [5.9 3.  4.2 1.5]\n",
            " [5.1 3.5 1.4 0.2]\n",
            " [5.8 2.7 4.1 1. ]\n",
            " [6.8 3.2 5.9 2.3]\n",
            " [5.  3.4 1.5 0.2]\n",
            " [5.1 3.7 1.5 0.4]\n",
            " [6.7 3.1 4.4 1.4]\n",
            " [7.2 3.  5.8 1.6]\n",
            " [4.8 3.4 1.6 0.2]\n",
            " [6.4 2.8 5.6 2.1]\n",
            " [5.1 2.5 3.  1.1]\n",
            " [4.6 3.6 1.  0.2]\n",
            " [6.3 3.4 5.6 2.4]\n",
            " [4.4 2.9 1.4 0.2]\n",
            " [5.  3.5 1.6 0.6]\n",
            " [5.4 3.7 1.5 0.2]\n",
            " [5.1 3.4 1.5 0.2]\n",
            " [4.9 2.4 3.3 1. ]\n",
            " [4.4 3.  1.3 0.2]\n",
            " [7.2 3.6 6.1 2.5]\n",
            " [6.7 3.3 5.7 2.5]\n",
            " [7.4 2.8 6.1 1.9]\n",
            " [6.7 3.1 4.7 1.5]\n",
            " [7.3 2.9 6.3 1.8]\n",
            " [6.5 3.  5.2 2. ]\n",
            " [6.1 3.  4.9 1.8]\n",
            " [6.7 2.5 5.8 1.8]\n",
            " [5.9 3.  5.1 1.8]\n",
            " [4.9 3.1 1.5 0.1]\n",
            " [5.2 3.5 1.5 0.2]\n",
            " [7.2 3.2 6.  1.8]\n",
            " [6.8 3.  5.5 2.1]\n",
            " [5.1 3.8 1.6 0.2]\n",
            " [5.8 2.6 4.  1.2]\n",
            " [5.8 2.7 3.9 1.2]\n",
            " [6.4 2.7 5.3 1.9]\n",
            " [6.3 2.9 5.6 1.8]\n",
            " [6.  2.7 5.1 1.6]\n",
            " [4.3 3.  1.1 0.1]\n",
            " [6.3 2.3 4.4 1.3]\n",
            " [7.9 3.8 6.4 2. ]\n",
            " [6.3 3.3 6.  2.5]\n",
            " [5.1 3.8 1.9 0.4]\n",
            " [5.8 2.7 5.1 1.9]\n",
            " [7.7 3.8 6.7 2.2]\n",
            " [6.9 3.1 5.1 2.3]\n",
            " [4.6 3.2 1.4 0.2]\n",
            " [6.9 3.1 5.4 2.1]\n",
            " [6.7 3.3 5.7 2.1]\n",
            " [7.7 2.6 6.9 2.3]\n",
            " [4.8 3.4 1.9 0.2]\n",
            " [5.  3.4 1.6 0.4]\n",
            " [4.6 3.1 1.5 0.2]\n",
            " [6.7 3.  5.  1.7]\n",
            " [6.5 3.  5.5 1.8]\n",
            " [5.4 3.  4.5 1.5]\n",
            " [6.3 2.7 4.9 1.8]\n",
            " [5.8 2.8 5.1 2.4]\n",
            " [5.3 3.7 1.5 0.2]\n",
            " [5.7 2.6 3.5 1. ]\n",
            " [5.  2.  3.5 1. ]\n",
            " [5.4 3.9 1.3 0.4]\n",
            " [6.2 2.8 4.8 1.8]\n",
            " [4.7 3.2 1.3 0.2]\n",
            " [5.8 4.  1.2 0.2]\n",
            " [5.7 3.8 1.7 0.3]\n",
            " [6.6 2.9 4.6 1.3]\n",
            " [5.4 3.4 1.7 0.2]\n",
            " [6.1 2.8 4.  1.3]\n",
            " [4.8 3.  1.4 0.3]\n",
            " [4.9 3.1 1.5 0.1]\n",
            " [6.  3.  4.8 1.8]\n",
            " [6.1 3.  4.6 1.4]\n",
            " [6.9 3.1 4.9 1.5]\n",
            " [5.7 2.9 4.2 1.3]\n",
            " [6.2 3.4 5.4 2.3]\n",
            " [5.  3.6 1.4 0.2]\n",
            " [5.7 2.8 4.5 1.3]\n",
            " [7.7 2.8 6.7 2. ]\n",
            " [5.5 3.5 1.3 0.2]\n",
            " [5.6 2.5 3.9 1.1]\n",
            " [6.  3.4 4.5 1.6]\n",
            " [7.1 3.  5.9 2.1]\n",
            " [5.6 3.  4.5 1.5]\n",
            " [7.6 3.  6.6 2.1]\n",
            " [6.1 2.9 4.7 1.4]\n",
            " [5.5 2.6 4.4 1.2]\n",
            " [6.7 3.1 5.6 2.4]\n",
            " [6.3 2.5 4.9 1.5]\n",
            " [5.6 2.7 4.2 1.3]\n",
            " [6.3 2.8 5.1 1.5]\n",
            " [6.5 3.  5.8 2.2]\n",
            " [5.6 2.9 3.6 1.3]\n",
            " [5.4 3.4 1.5 0.4]\n",
            " [7.  3.2 4.7 1.4]\n",
            " [5.5 2.4 3.7 1. ]\n",
            " [5.9 3.2 4.8 1.8]\n",
            " [5.  3.  1.6 0.2]\n",
            " [5.  3.5 1.3 0.3]\n",
            " [5.5 2.4 3.8 1.1]\n",
            " [4.9 2.5 4.5 1.7]\n",
            " [6.4 3.2 4.5 1.5]\n",
            " [6.  2.2 4.  1. ]\n",
            " [5.5 2.5 4.  1.3]\n",
            " [4.7 3.2 1.6 0.2]\n",
            " [4.9 3.1 1.5 0.1]\n",
            " [5.  2.3 3.3 1. ]\n",
            " [6.8 2.8 4.8 1.4]\n",
            " [5.7 4.4 1.5 0.4]\n",
            " [6.9 3.2 5.7 2.3]\n",
            " [6.4 2.9 4.3 1.3]\n",
            " [5.7 3.  4.2 1.2]\n",
            " [5.2 3.4 1.4 0.2]\n",
            " [5.1 3.8 1.5 0.3]\n",
            " [6.1 2.6 5.6 1.4]]\n",
            "0       Iris-virginica\n",
            "1      Iris-versicolor\n",
            "2          Iris-setosa\n",
            "3      Iris-versicolor\n",
            "4      Iris-versicolor\n",
            "            ...       \n",
            "137    Iris-versicolor\n",
            "138    Iris-versicolor\n",
            "139        Iris-setosa\n",
            "140        Iris-setosa\n",
            "141     Iris-virginica\n",
            "Name: Species, Length: 142, dtype: object\n"
          ],
          "name": "stdout"
        }
      ]
    },
    {
      "cell_type": "markdown",
      "metadata": {
        "id": "gUz3ZVFmldiB",
        "colab_type": "text"
      },
      "source": [
        "# **Encoding the Labels**"
      ]
    },
    {
      "cell_type": "markdown",
      "metadata": {
        "id": "FpGZKhlfmX7g",
        "colab_type": "text"
      },
      "source": [
        "We must transform the column of classes, because we have a format 'str', and it is a multiclass situation. We must first convert the names of species into numerical values, then into vectors for the output of the neuron network."
      ]
    },
    {
      "cell_type": "code",
      "metadata": {
        "id": "wCXhQli01QYR",
        "colab_type": "code",
        "colab": {
          "base_uri": "https://localhost:8080/",
          "height": 1000
        },
        "outputId": "53b88ed7-ad2a-4cbf-ecc3-f50d94d4a7b8"
      },
      "source": [
        "# Transform name species into numerical values \n",
        "encoder = LabelEncoder()\n",
        "encoder.fit(Y)\n",
        "#converting to numerical values\n",
        "Y = encoder.transform(Y)\n",
        "#converting to vectors\n",
        "Y = np_utils.to_categorical(Y)\n",
        "print(Y)\n",
        "\n",
        "# We have 3 classes : \n",
        "#0,0,1 : Class 1\n",
        "#0,1,0 : Class 2\n",
        "#1,0,0 : Class 3"
      ],
      "execution_count": 10,
      "outputs": [
        {
          "output_type": "stream",
          "text": [
            "[[0. 0. 1.]\n",
            " [0. 1. 0.]\n",
            " [1. 0. 0.]\n",
            " [0. 1. 0.]\n",
            " [0. 1. 0.]\n",
            " [0. 0. 1.]\n",
            " [1. 0. 0.]\n",
            " [1. 0. 0.]\n",
            " [0. 1. 0.]\n",
            " [0. 0. 1.]\n",
            " [0. 1. 0.]\n",
            " [0. 0. 1.]\n",
            " [1. 0. 0.]\n",
            " [0. 0. 1.]\n",
            " [1. 0. 0.]\n",
            " [0. 0. 1.]\n",
            " [0. 1. 0.]\n",
            " [0. 0. 1.]\n",
            " [0. 0. 1.]\n",
            " [1. 0. 0.]\n",
            " [1. 0. 0.]\n",
            " [1. 0. 0.]\n",
            " [1. 0. 0.]\n",
            " [0. 0. 1.]\n",
            " [1. 0. 0.]\n",
            " [0. 1. 0.]\n",
            " [0. 1. 0.]\n",
            " [0. 1. 0.]\n",
            " [1. 0. 0.]\n",
            " [0. 1. 0.]\n",
            " [0. 0. 1.]\n",
            " [1. 0. 0.]\n",
            " [1. 0. 0.]\n",
            " [0. 1. 0.]\n",
            " [0. 0. 1.]\n",
            " [1. 0. 0.]\n",
            " [0. 0. 1.]\n",
            " [0. 1. 0.]\n",
            " [1. 0. 0.]\n",
            " [0. 0. 1.]\n",
            " [1. 0. 0.]\n",
            " [1. 0. 0.]\n",
            " [1. 0. 0.]\n",
            " [1. 0. 0.]\n",
            " [0. 1. 0.]\n",
            " [1. 0. 0.]\n",
            " [0. 0. 1.]\n",
            " [0. 0. 1.]\n",
            " [0. 0. 1.]\n",
            " [0. 1. 0.]\n",
            " [0. 0. 1.]\n",
            " [0. 0. 1.]\n",
            " [0. 0. 1.]\n",
            " [0. 0. 1.]\n",
            " [0. 0. 1.]\n",
            " [1. 0. 0.]\n",
            " [1. 0. 0.]\n",
            " [0. 0. 1.]\n",
            " [0. 0. 1.]\n",
            " [1. 0. 0.]\n",
            " [0. 1. 0.]\n",
            " [0. 1. 0.]\n",
            " [0. 0. 1.]\n",
            " [0. 0. 1.]\n",
            " [0. 1. 0.]\n",
            " [1. 0. 0.]\n",
            " [0. 1. 0.]\n",
            " [0. 0. 1.]\n",
            " [0. 0. 1.]\n",
            " [1. 0. 0.]\n",
            " [0. 0. 1.]\n",
            " [0. 0. 1.]\n",
            " [0. 0. 1.]\n",
            " [1. 0. 0.]\n",
            " [0. 0. 1.]\n",
            " [0. 0. 1.]\n",
            " [0. 0. 1.]\n",
            " [1. 0. 0.]\n",
            " [1. 0. 0.]\n",
            " [1. 0. 0.]\n",
            " [0. 1. 0.]\n",
            " [0. 0. 1.]\n",
            " [0. 1. 0.]\n",
            " [0. 0. 1.]\n",
            " [0. 0. 1.]\n",
            " [1. 0. 0.]\n",
            " [0. 1. 0.]\n",
            " [0. 1. 0.]\n",
            " [1. 0. 0.]\n",
            " [0. 0. 1.]\n",
            " [1. 0. 0.]\n",
            " [1. 0. 0.]\n",
            " [1. 0. 0.]\n",
            " [0. 1. 0.]\n",
            " [1. 0. 0.]\n",
            " [0. 1. 0.]\n",
            " [1. 0. 0.]\n",
            " [1. 0. 0.]\n",
            " [0. 0. 1.]\n",
            " [0. 1. 0.]\n",
            " [0. 1. 0.]\n",
            " [0. 1. 0.]\n",
            " [0. 0. 1.]\n",
            " [1. 0. 0.]\n",
            " [0. 1. 0.]\n",
            " [0. 0. 1.]\n",
            " [1. 0. 0.]\n",
            " [0. 1. 0.]\n",
            " [0. 1. 0.]\n",
            " [0. 0. 1.]\n",
            " [0. 1. 0.]\n",
            " [0. 0. 1.]\n",
            " [0. 1. 0.]\n",
            " [0. 1. 0.]\n",
            " [0. 0. 1.]\n",
            " [0. 1. 0.]\n",
            " [0. 1. 0.]\n",
            " [0. 0. 1.]\n",
            " [0. 0. 1.]\n",
            " [0. 1. 0.]\n",
            " [1. 0. 0.]\n",
            " [0. 1. 0.]\n",
            " [0. 1. 0.]\n",
            " [0. 1. 0.]\n",
            " [1. 0. 0.]\n",
            " [1. 0. 0.]\n",
            " [0. 1. 0.]\n",
            " [0. 0. 1.]\n",
            " [0. 1. 0.]\n",
            " [0. 1. 0.]\n",
            " [0. 1. 0.]\n",
            " [1. 0. 0.]\n",
            " [1. 0. 0.]\n",
            " [0. 1. 0.]\n",
            " [0. 1. 0.]\n",
            " [1. 0. 0.]\n",
            " [0. 0. 1.]\n",
            " [0. 1. 0.]\n",
            " [0. 1. 0.]\n",
            " [1. 0. 0.]\n",
            " [1. 0. 0.]\n",
            " [0. 0. 1.]]\n"
          ],
          "name": "stdout"
        }
      ]
    },
    {
      "cell_type": "markdown",
      "metadata": {
        "id": "tfru4Wb6l3m4",
        "colab_type": "text"
      },
      "source": [
        "# **Splitting data into train and test**"
      ]
    },
    {
      "cell_type": "code",
      "metadata": {
        "id": "aeeWStb41T_z",
        "colab_type": "code",
        "colab": {}
      },
      "source": [
        "train_x, test_x, train_y, test_y = model_selection.train_test_split(X,Y,test_size = 0.1, random_state = 0)"
      ],
      "execution_count": 11,
      "outputs": []
    },
    {
      "cell_type": "markdown",
      "metadata": {
        "id": "OnCri-7bl-88",
        "colab_type": "text"
      },
      "source": [
        "# **Structuring neural network and training**"
      ]
    },
    {
      "cell_type": "markdown",
      "metadata": {
        "id": "CTK0EiYUmu_L",
        "colab_type": "text"
      },
      "source": [
        "It's time to build our neural network. The dimension in input is the number of features of the dataframe (without the class to predict!).\n",
        "\n",
        "We are on a multiclass classification situation, so the activation function for the last most suitable layer is \"softmax\", and \"categorical_crossentropy\" for the loss.\n",
        "\n",
        "We have to do several tests to find the best architecture, but this one works pretty well"
      ]
    },
    {
      "cell_type": "code",
      "metadata": {
        "id": "tqBhYd2S1WV5",
        "colab_type": "code",
        "colab": {
          "base_uri": "https://localhost:8080/",
          "height": 416
        },
        "outputId": "6b17e8ce-f02a-442b-84e8-9c463b81a264"
      },
      "source": [
        "#using ANN\n",
        "input_dim = len(iris.columns) - 1\n",
        "\n",
        "model = Sequential()\n",
        "model.add(Dense(8, input_dim = input_dim , activation = 'relu'))\n",
        "model.add(Dense(10, activation = 'relu'))\n",
        "model.add(Dense(10, activation = 'relu'))\n",
        "model.add(Dense(10, activation = 'relu'))\n",
        "model.add(Dense(3, activation = 'softmax'))\n",
        "\n",
        "model.compile(loss = 'categorical_crossentropy' , optimizer = 'adam' , metrics = ['accuracy'] )\n",
        "\n",
        "model.fit(train_x, train_y, epochs = 10, batch_size = 2)\n",
        "\n",
        "scores = model.evaluate(test_x, test_y)\n",
        "print(\"\\n%s: %.2f%%\" % (model.metrics_names[1], scores[1]*100))"
      ],
      "execution_count": 12,
      "outputs": [
        {
          "output_type": "stream",
          "text": [
            "Epoch 1/10\n",
            "64/64 [==============================] - 0s 1ms/step - loss: 1.1311 - accuracy: 0.3622\n",
            "Epoch 2/10\n",
            "64/64 [==============================] - 0s 1ms/step - loss: 1.0121 - accuracy: 0.6299\n",
            "Epoch 3/10\n",
            "64/64 [==============================] - 0s 1ms/step - loss: 0.9273 - accuracy: 0.6457\n",
            "Epoch 4/10\n",
            "64/64 [==============================] - 0s 1ms/step - loss: 0.8029 - accuracy: 0.7638\n",
            "Epoch 5/10\n",
            "64/64 [==============================] - 0s 1ms/step - loss: 0.6592 - accuracy: 0.8504\n",
            "Epoch 6/10\n",
            "64/64 [==============================] - 0s 1ms/step - loss: 0.5220 - accuracy: 0.8583\n",
            "Epoch 7/10\n",
            "64/64 [==============================] - 0s 1ms/step - loss: 0.4422 - accuracy: 0.8425\n",
            "Epoch 8/10\n",
            "64/64 [==============================] - 0s 1ms/step - loss: 0.3922 - accuracy: 0.8425\n",
            "Epoch 9/10\n",
            "64/64 [==============================] - 0s 1ms/step - loss: 0.3558 - accuracy: 0.8819\n",
            "Epoch 10/10\n",
            "64/64 [==============================] - 0s 1ms/step - loss: 0.3133 - accuracy: 0.9213\n",
            "1/1 [==============================] - 0s 1ms/step - loss: 0.2083 - accuracy: 1.0000\n",
            "\n",
            "accuracy: 100.00%\n"
          ],
          "name": "stdout"
        }
      ]
    },
    {
      "cell_type": "markdown",
      "metadata": {
        "id": "hJH_7Ddrm66R",
        "colab_type": "text"
      },
      "source": [
        "It is time to make predictions with the small sample removed from the base at the beginning. To train the neural network it was necessary to convert the species into vectors. So after the prediction it is necessary to carry out the opposite operation to recover the name of the associated species"
      ]
    },
    {
      "cell_type": "code",
      "metadata": {
        "id": "zDcUOgzX1agb",
        "colab_type": "code",
        "colab": {
          "base_uri": "https://localhost:8080/",
          "height": 228
        },
        "outputId": "d1722d9c-0d90-4efb-aa69-4a2166077338"
      },
      "source": [
        "predictions = model.predict_classes(prediction)\n",
        "prediction_ = np.argmax(to_categorical(predictions), axis = 1)\n",
        "prediction_ = encoder.inverse_transform(prediction_)\n",
        "\n",
        "for i, j in zip(prediction_ , predict_species):\n",
        "    print( \" the nn predict {}, and the species to find is {}\".format(i,j))\n"
      ],
      "execution_count": 13,
      "outputs": [
        {
          "output_type": "stream",
          "text": [
            "WARNING:tensorflow:From <ipython-input-13-9504b51e34d5>:1: Sequential.predict_classes (from tensorflow.python.keras.engine.sequential) is deprecated and will be removed after 2021-01-01.\n",
            "Instructions for updating:\n",
            "Please use instead:* `np.argmax(model.predict(x), axis=-1)`,   if your model does multi-class classification   (e.g. if it uses a `softmax` last-layer activation).* `(model.predict(x) > 0.5).astype(\"int32\")`,   if your model does binary classification   (e.g. if it uses a `sigmoid` last-layer activation).\n",
            " the nn predict Iris-setosa, and the species to find is Iris-setosa\n",
            " the nn predict Iris-virginica, and the species to find is Iris-virginica\n",
            " the nn predict Iris-versicolor, and the species to find is Iris-versicolor\n",
            " the nn predict Iris-versicolor, and the species to find is Iris-versicolor\n",
            " the nn predict Iris-versicolor, and the species to find is Iris-versicolor\n",
            " the nn predict Iris-setosa, and the species to find is Iris-setosa\n",
            " the nn predict Iris-virginica, and the species to find is Iris-virginica\n",
            " the nn predict Iris-setosa, and the species to find is Iris-setosa\n"
          ],
          "name": "stdout"
        }
      ]
    },
    {
      "cell_type": "code",
      "metadata": {
        "id": "nMW3h6WQ1g11",
        "colab_type": "code",
        "colab": {}
      },
      "source": [
        ""
      ],
      "execution_count": 13,
      "outputs": []
    }
  ]
}
